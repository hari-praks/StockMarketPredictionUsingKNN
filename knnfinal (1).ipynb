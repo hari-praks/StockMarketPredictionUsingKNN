{
  "nbformat": 4,
  "nbformat_minor": 0,
  "metadata": {
    "colab": {
      "name": "knnfinal",
      "provenance": []
    },
    "kernelspec": {
      "name": "python3",
      "display_name": "Python 3"
    },
    "language_info": {
      "name": "python"
    }
  },
  "cells": [
    {
      "cell_type": "code",
      "metadata": {
        "colab": {
          "base_uri": "https://localhost:8080/"
        },
        "id": "j5-wvU8Qx3Al",
        "outputId": "7725e63d-d4c5-4fbd-aab5-d739af82c876"
      },
      "source": [
        "import numpy as np\n",
        "import pandas as pd\n",
        "from sklearn.model_selection import train_test_split\n",
        "\n",
        " \n",
        "\n",
        "import fix_yahoo_finance as yf\n",
        "from pandas_datareader import data as pdr\n",
        "df = pdr.get_data_yahoo('JPM', '2010-01-01', '2021-02-01')\n",
        "print(len(df))\n",
        "df = df.dropna() \n",
        "df = df.iloc[:,:4] \n",
        "print(len(df))\n",
        "df.head()\n",
        "df.info()"
      ],
      "execution_count": 139,
      "outputs": [
        {
          "output_type": "stream",
          "text": [
            "2789\n",
            "2789\n",
            "<class 'pandas.core.frame.DataFrame'>\n",
            "DatetimeIndex: 2789 entries, 2010-01-04 to 2021-02-01\n",
            "Data columns (total 4 columns):\n",
            " #   Column  Non-Null Count  Dtype  \n",
            "---  ------  --------------  -----  \n",
            " 0   High    2789 non-null   float64\n",
            " 1   Low     2789 non-null   float64\n",
            " 2   Open    2789 non-null   float64\n",
            " 3   Close   2789 non-null   float64\n",
            "dtypes: float64(4)\n",
            "memory usage: 108.9 KB\n"
          ],
          "name": "stdout"
        }
      ]
    },
    {
      "cell_type": "code",
      "metadata": {
        "id": "6f08cEvOyIsl"
      },
      "source": [
        "n=13\n",
        " \n",
        "def RSI(df,n):\n",
        "    \"function to calculate RSI\"\n",
        "    df = df.copy()\n",
        "    df['delta']=df['Close'] - df['Close'].shift(1)\n",
        "    df['gain']=np.where(df['delta']>=0,df['delta'],0)\n",
        "    df['loss']=np.where(df['delta']<0,abs(df['delta']),0)\n",
        "    avg_gain = []\n",
        "    avg_loss = []\n",
        "    gain = df['gain'].tolist() #transforming the column into a numpy list\n",
        "    loss = df['loss'].tolist()\n",
        "    for i in range(len(df)):  #loop\n",
        "        if i < n:\n",
        "            avg_gain.append(np.NaN)\n",
        "            avg_loss.append(np.NaN)\n",
        "        elif i == n:\n",
        "            avg_gain.append(df['gain'].rolling(n).mean().tolist()[n])\n",
        "            avg_loss.append(df['loss'].rolling(n).mean().tolist()[n])\n",
        "        elif i > n:\n",
        "            avg_gain.append(((n-1)*avg_gain[i-1] + gain[i])/n)\n",
        "            avg_loss.append(((n-1)*avg_loss[i-1] + loss[i])/n)\n",
        "    df['avg_gain']=np.array(avg_gain)\n",
        "    df['avg_loss']=np.array(avg_loss)\n",
        "    df['RS'] = df['avg_gain']/df['avg_loss']\n",
        "    df['RSI'] = 100 - (100/(1+df['RS']))\n",
        "    return df['RSI']\n",
        "\n",
        "df['RSI'] = RSI(df, n)"
      ],
      "execution_count": 140,
      "outputs": []
    },
    {
      "cell_type": "code",
      "metadata": {
        "id": "Bx6VE7mKyR-i"
      },
      "source": [
        "a = 13\n",
        "b = 24\n",
        "c = 9\n",
        " \n",
        "def MACD(df,a,b,c):\n",
        "    \"\"\"function to calculate MACD\n",
        "       typical values a = 12; b =26, c =9\"\"\"\n",
        "    df = df.copy()\n",
        "    df[\"MA_Fast\"]=df[\"Close\"].ewm(span=a,min_periods=a).mean()\n",
        "    df[\"MA_Slow\"]=df[\"Close\"].ewm(span=b,min_periods=b).mean()\n",
        "    df[\"MACD\"]=df[\"MA_Fast\"]-df[\"MA_Slow\"]\n",
        "    df[\"Signal\"]=df[\"MACD\"].ewm(span=c,min_periods=c).mean()\n",
        "    df.dropna(inplace=True)\n",
        "    return df\n",
        " \n",
        "df = MACD(df,a,b,c)"
      ],
      "execution_count": 141,
      "outputs": []
    },
    {
      "cell_type": "code",
      "metadata": {
        "id": "G-c0dRcFyXAx"
      },
      "source": [
        "X= df[['RSI','MACD','Signal']]\n",
        "df['up_down'] = np.where (df['Close'].shift(-1) > df['Close'],1,-1)"
      ],
      "execution_count": 142,
      "outputs": []
    },
    {
      "cell_type": "code",
      "metadata": {
        "colab": {
          "base_uri": "https://localhost:8080/"
        },
        "id": "TrQxTgm9ybgZ",
        "outputId": "3275abc6-f12c-4e73-a1ab-ff1a637690a4"
      },
      "source": [
        "\n",
        "\n",
        "Y=df['up_down']\n",
        "X_train, X_test, Y_train, Y_test = train_test_split(\n",
        "    X, Y, test_size=0.33, random_state=42)\n",
        "\n",
        "\n",
        "\n",
        "\n",
        "from sklearn.neighbors import KNeighborsClassifier\n",
        "from sklearn.metrics import accuracy_score\n",
        "from sklearn.metrics import confusion_matrix\n",
        " \n",
        "\n",
        "knn =KNeighborsClassifier(n_neighbors=28)\n",
        " \n",
        "\n",
        "fitted_model = knn.fit(X_train, Y_train)\n",
        "predictions = fitted_model.predict(X_test)\n",
        " \n",
        "\n",
        "\n",
        " \n",
        "\n",
        "accuracy_train = accuracy_score(Y_train, knn.predict(X_train))\n",
        "accuracy_test = accuracy_score(Y_test, knn.predict(X_test))\n",
        "print(\"KNN\")\n",
        "print(\"Total Sum: \",len(X_test))\n",
        "c_matrix=confusion_matrix(Y_test, predictions)\n",
        "print(\"Sum of correct values= \", c_matrix[0][0]+c_matrix[1][1])\n",
        "\n",
        "print(\"Accuracy: \",accuracy_test)\n",
        "print(\"Confusion matrix:  \")\n",
        "print(confusion_matrix(Y_test, predictions))\n"
      ],
      "execution_count": 154,
      "outputs": [
        {
          "output_type": "stream",
          "text": [
            "KNN\n",
            "Total Sum:  911\n",
            "Sum of correct values=  469\n",
            "Accuracy:  0.5148188803512623\n",
            "Confusion matrix:  \n",
            "[[255 179]\n",
            " [263 214]]\n"
          ],
          "name": "stdout"
        }
      ]
    }
  ]
}